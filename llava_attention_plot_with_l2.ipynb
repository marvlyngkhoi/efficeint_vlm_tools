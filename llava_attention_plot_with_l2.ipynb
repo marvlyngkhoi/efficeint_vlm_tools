{
 "cells": [
  {
   "cell_type": "code",
   "execution_count": 1,
   "id": "e0a4bca4-19a3-42b5-92f6-cec4a6ff78bc",
   "metadata": {},
   "outputs": [],
   "source": [
    "import os\n",
    "os.environ['CUDA_VISIBLE_DEVICES']='5'\n",
    "\n",
    "import requests\n",
    "from PIL import Image\n",
    "from io import BytesIO"
   ]
  },
  {
   "cell_type": "code",
   "execution_count": 2,
   "id": "099e5223",
   "metadata": {},
   "outputs": [
    {
     "name": "stderr",
     "output_type": "stream",
     "text": [
      "/home/sarmistha/miniconda3/envs/smol/lib/python3.12/site-packages/transformers/generation/configuration_utils.py:818: UserWarning: `return_dict_in_generate` is NOT set to `True`, but `output_attentions` is. When `return_dict_in_generate` is not `True`, `output_attentions` is ignored.\n",
      "  warnings.warn(\n"
     ]
    },
    {
     "data": {
      "application/vnd.jupyter.widget-view+json": {
       "model_id": "4af99ebf6528410c905d6e9f5063ebd9",
       "version_major": 2,
       "version_minor": 0
      },
      "text/plain": [
       "Loading checkpoint shards:   0%|          | 0/3 [00:00<?, ?it/s]"
      ]
     },
     "metadata": {},
     "output_type": "display_data"
    }
   ],
   "source": [
    "import torch\n",
    "from transformers import AutoProcessor, LlavaForConditionalGeneration\n",
    "\n",
    "# Load the Llava model with attention output enabled\n",
    "model = LlavaForConditionalGeneration.from_pretrained(\n",
    "    \"llava-hf/llava-1.5-7b-hf\", output_attentions=True, torch_dtype=torch.float16, device_map=\"auto\"\n",
    ")\n",
    "\n",
    "# Load the processor for handling text and vision inputs\n",
    "processor = AutoProcessor.from_pretrained(\"llava-hf/llava-1.5-7b-hf\")"
   ]
  },
  {
   "cell_type": "code",
   "execution_count": 3,
   "id": "f50622ed-62d6-4a52-ab8f-a7f831c2a864",
   "metadata": {},
   "outputs": [],
   "source": [
    "# URL of the image\n",
    "image_url = \"https://huggingface.co/spaces/merve/chameleon-7b/resolve/main/bee.jpg\"\n",
    "\n",
    "# Download the image\n",
    "response = requests.get(image_url)\n",
    "if response.status_code == 200:\n",
    "    img = Image.open(BytesIO(response.content))\n",
    "    img_resized = img.resize((120, 120))  # Resize the image to 120x120 pixels"
   ]
  },
  {
   "cell_type": "code",
   "execution_count": 4,
   "id": "18d1dc02-a4f5-415f-8b32-54e3de4971c6",
   "metadata": {},
   "outputs": [],
   "source": [
    "# Define a conversation with an image and a descriptive text prompt\n",
    "conversation_1 = [\n",
    "    {\n",
    "        \"role\": \"user\",\n",
    "        \"content\": [\n",
    "            {\"type\": \"image\"},\n",
    "            {\"type\": \"text\", \"text\": \"Describe this image.\"},\n",
    "        ],\n",
    "    },\n",
    "]\n",
    "\n",
    "# Process the chat message into text format for the model\n",
    "prompt_1 = processor.apply_chat_template(conversation_1, add_generation_prompt=True)\n",
    "\n",
    "# Convert inputs into tensor format and move them to the GPU\n",
    "inputs = processor(images=[img_resized], text=[prompt_1], return_tensors=\"pt\").to(model.device, torch.float16)"
   ]
  },
  {
   "cell_type": "code",
   "execution_count": 5,
   "id": "59f585c4-705d-45f5-9a58-e289b4dc53be",
   "metadata": {},
   "outputs": [
    {
     "name": "stderr",
     "output_type": "stream",
     "text": [
      "LlamaModel is using LlamaSdpaAttention, but `torch.nn.functional.scaled_dot_product_attention` does not support `output_attentions=True`. Falling back to the manual attention implementation, but specifying the manual implementation will be required from Transformers version v5.0.0 onwards. This warning can be removed using the argument `attn_implementation=\"eager\"` when loading the model.\n"
     ]
    }
   ],
   "source": [
    "# Run the model and extract attention maps\n",
    "outputs = model(**inputs)\n"
   ]
  },
  {
   "cell_type": "code",
   "execution_count": 8,
   "id": "48c039c6-1c85-4d37-8aca-93deb7871592",
   "metadata": {},
   "outputs": [
    {
     "data": {
      "text/plain": [
       "576"
      ]
     },
     "execution_count": 8,
     "metadata": {},
     "output_type": "execute_result"
    }
   ],
   "source": [
    "# Identify positions of image tokens in the input sequence\n",
    "img_tok_idx = [idx for idx, val in enumerate(inputs.input_ids[0]) if val == 32000]\n",
    "len(img_tok_idx)"
   ]
  },
  {
   "cell_type": "code",
   "execution_count": 6,
   "id": "0c72a2e0",
   "metadata": {},
   "outputs": [
    {
     "data": {
      "application/vnd.jupyter.widget-view+json": {
       "model_id": "595b61a0dc394f7597dc3f56a38a1c6d",
       "version_major": 2,
       "version_minor": 0
      },
      "text/plain": [
       "interactive(children=(IntSlider(value=15, description='layer_idx', max=31), IntSlider(value=15, description='h…"
      ]
     },
     "metadata": {},
     "output_type": "display_data"
    }
   ],
   "source": [
    "import numpy as np\n",
    "import matplotlib.pyplot as plt\n",
    "from ipywidgets import interact\n",
    "\n",
    "def visualize_attention_maps(attention_maps):\n",
    "    num_layers = len(attention_maps)\n",
    "    num_heads = attention_maps[0].shape[1]\n",
    "    seq_len = attention_maps[0].shape[2]\n",
    "\n",
    "    def visualize(layer_idx, head_idx):\n",
    "        attn_map = attention_maps[layer_idx][0, head_idx].detach().cpu().numpy()\n",
    "        mask = np.triu(np.ones_like(attn_map), k=1)\n",
    "        plt.figure(figsize=(15, 7))\n",
    "        plt.subplot(1, 2, 2)\n",
    "        masked_attn_map = np.ma.masked_where(mask == 1, attn_map)\n",
    "        plt.imshow(masked_attn_map, cmap=\"viridis\", interpolation=\"nearest\")\n",
    "        plt.colorbar(label=\"Attention Score\")\n",
    "        plt.xlabel(\"Key Position\")\n",
    "        plt.ylabel(\"Query Position\")\n",
    "        plt.title(f\"Attention Map (Lower Triangle) - Layer {layer_idx}, Head {head_idx}\")\n",
    "        plt.tight_layout()\n",
    "        plt.show()\n",
    "\n",
    "    interact(visualize, layer_idx=(0, num_layers - 1), head_idx=(0, num_heads - 1))\n",
    "\n",
    "visualize_attention_maps(outputs.attentions)"
   ]
  },
  {
   "cell_type": "code",
   "execution_count": 7,
   "id": "1a5cedf3",
   "metadata": {},
   "outputs": [
    {
     "data": {
      "application/vnd.jupyter.widget-view+json": {
       "model_id": "d06d9719e43c43298fa652d102704f31",
       "version_major": 2,
       "version_minor": 0
      },
      "text/plain": [
       "interactive(children=(IntSlider(value=15, description='layer_idx', max=31), IntSlider(value=15, description='h…"
      ]
     },
     "metadata": {},
     "output_type": "display_data"
    }
   ],
   "source": [
    "def visualize_l2_norms(past_key_values):\n",
    "    past_keys = [kv[0] for kv in past_key_values]\n",
    "    num_layers = len(past_keys)\n",
    "    num_heads = past_keys[0].shape[1]\n",
    "    seq_len = past_keys[0].shape[2]\n",
    "\n",
    "    l2_norms = np.zeros((num_layers, num_heads, seq_len))\n",
    "    for layer in range(num_layers):\n",
    "        keys = past_keys[layer]\n",
    "        l2_norms[layer] = torch.norm(keys, p=2, dim=3).squeeze(0).detach().cpu().numpy()\n",
    "\n",
    "    def plot_l2_norm(layer_idx, head_idx):\n",
    "        plt.figure(figsize=(15, 7))\n",
    "        plt.plot(range(seq_len), l2_norms[layer_idx, head_idx], marker=\"o\", linestyle=\"-\")\n",
    "        plt.xlabel(\"Sequence Position\")\n",
    "        plt.ylabel(\"L2 Norm\")\n",
    "        plt.title(f\"L2 Norm of Past Keys - Layer {layer_idx}, Head {head_idx}\")\n",
    "        plt.grid(True)\n",
    "        plt.show()\n",
    "\n",
    "    interact(plot_l2_norm, layer_idx=(0, num_layers-1), head_idx=(0, num_heads-1))\n",
    "\n",
    "visualize_l2_norms(outputs.past_key_values)\n"
   ]
  }
 ],
 "metadata": {
  "kernelspec": {
   "display_name": "Python SMOL",
   "language": "python",
   "name": "smol"
  },
  "language_info": {
   "codemirror_mode": {
    "name": "ipython",
    "version": 3
   },
   "file_extension": ".py",
   "mimetype": "text/x-python",
   "name": "python",
   "nbconvert_exporter": "python",
   "pygments_lexer": "ipython3",
   "version": "3.12.7"
  }
 },
 "nbformat": 4,
 "nbformat_minor": 5
}
