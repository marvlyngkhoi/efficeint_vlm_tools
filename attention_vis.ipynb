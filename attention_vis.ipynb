{
 "cells": [
  {
   "cell_type": "markdown",
   "id": "826bf839",
   "metadata": {},
   "source": [
    "<a target=\"_blank\" href=\"https://colab.research.google.com/github/marvlyngkhoi/efficeint_vlm_tools/blob/main/attention_vis.ipynb\">\n",
    "  <img src=\"https://colab.research.google.com/assets/colab-badge.svg\" alt=\"Open In Colab\"/>\n",
    "</a>"
   ]
  },
  {
   "cell_type": "code",
   "execution_count": 13,
   "id": "e7ef4842-f27b-4c4c-95ca-4892b0cce682",
   "metadata": {},
   "outputs": [],
   "source": [
    "from get_attention import *\n",
    "from plot import *\n",
    "from transformers.image_utils import load_image"
   ]
  },
  {
   "cell_type": "code",
   "execution_count": 2,
   "id": "818530c8-a5f1-4688-a35d-32233e9b0c5b",
   "metadata": {},
   "outputs": [
    {
     "name": "stderr",
     "output_type": "stream",
     "text": [
      "Some kwargs in processor config are unused and will not have any effect: image_seq_len. \n"
     ]
    }
   ],
   "source": [
    "model,processor=load_model(device=)"
   ]
  },
  {
   "cell_type": "code",
   "execution_count": 3,
   "id": "56915e80-e7af-4eda-8fc4-7acdb162f301",
   "metadata": {},
   "outputs": [],
   "source": [
    "hook = Hook()"
   ]
  },
  {
   "cell_type": "code",
   "execution_count": 4,
   "id": "3fc2e3b1-ff53-480d-b63a-8013fa4fa008",
   "metadata": {},
   "outputs": [],
   "source": [
    "hook.apply_hook(model)"
   ]
  },
  {
   "cell_type": "code",
   "execution_count": 5,
   "id": "59ea9bc1-8623-409c-89be-91edc68d4348",
   "metadata": {},
   "outputs": [],
   "source": [
    "image1 = load_image(\"https://cdn.britannica.com/61/93061-050-99147DCE/Statue-of-Liberty-Island-New-York-Bay.jpg\")\n",
    "image2 = load_image(\"https://huggingface.co/spaces/merve/chameleon-7b/resolve/main/bee.jpg\")\n",
    "messages = [\n",
    "    {\n",
    "        \"role\": \"user\",\n",
    "        \"content\": [\n",
    "            {\"type\": \"image\"},\n",
    "            #{\"type\": \"image\"},\n",
    "            {\"type\": \"text\", \"text\": \"What is the image about?\"}\n",
    "        ]\n",
    "    },\n",
    "]\n",
    "# Prepare inputs\n",
    "prompt = processor.apply_chat_template(messages, add_generation_prompt=True)\n",
    "inputs = processor(text=prompt, images=[image2], return_tensors=\"pt\")\n",
    "inputs = inputs.to('cpu')\n",
    "generated_ids = model(**inputs)\n"
   ]
  },
  {
   "cell_type": "code",
   "execution_count": 9,
   "id": "8c290c57-bc2f-407a-9a52-1d6a4e0f3bc2",
   "metadata": {},
   "outputs": [],
   "source": [
    "hook.remove_hooks()\n",
    "attention_maps = hook.get_attention_maps()"
   ]
  },
  {
   "cell_type": "code",
   "execution_count": null,
   "id": "b1cb16ef",
   "metadata": {},
   "outputs": [],
   "source": [
    "attention_maps.keys()"
   ]
  },
  {
   "cell_type": "code",
   "execution_count": 14,
   "id": "2b8c825b-198b-4c1b-9efa-26ced6ac9d76",
   "metadata": {},
   "outputs": [
    {
     "data": {
      "application/vnd.jupyter.widget-view+json": {
       "model_id": "2eaa3fa89f5f4a0b8b87c18385ff16b7",
       "version_major": 2,
       "version_minor": 0
      },
      "text/plain": [
       "VBox(children=(VBox(children=(Dropdown(description='Model:', options=('Text Attention', 'Vision Attention'), s…"
      ]
     },
     "metadata": {},
     "output_type": "display_data"
    }
   ],
   "source": [
    "visualizer = AttentionVisualizer(attention_maps)\n",
    "visualizer.display()"
   ]
  },
  {
   "cell_type": "code",
   "execution_count": null,
   "id": "50d3c283-e47c-4709-bee2-c36560b10233",
   "metadata": {},
   "outputs": [],
   "source": []
  }
 ],
 "metadata": {
  "kernelspec": {
   "display_name": "Python [conda env:finbot]",
   "language": "python",
   "name": "conda-env-finbot-py"
  },
  "language_info": {
   "codemirror_mode": {
    "name": "ipython",
    "version": 3
   },
   "file_extension": ".py",
   "mimetype": "text/x-python",
   "name": "python",
   "nbconvert_exporter": "python",
   "pygments_lexer": "ipython3",
   "version": "3.10.0"
  }
 },
 "nbformat": 4,
 "nbformat_minor": 5
}
